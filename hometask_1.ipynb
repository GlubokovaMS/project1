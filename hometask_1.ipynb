{
 "cells": [
  {
   "cell_type": "code",
   "execution_count": 8,
   "metadata": {},
   "outputs": [],
   "source": [
    "class Test:\n",
    "    def assert_equals(a, b, *args, **kwargs):\n",
    "        assert a == b\n",
    "        print('Passed')"
   ]
  },
  {
   "cell_type": "markdown",
   "metadata": {},
   "source": [
    "https://edabit.com/challenge/G9QRtAGXb9Cu368Pw (3 poins)"
   ]
  },
  {
   "cell_type": "code",
   "execution_count": 11,
   "metadata": {},
   "outputs": [],
   "source": [
    "def combinations(*a):\n",
    "    comb = 1\n",
    "    \n",
    "    for x in a:\n",
    "        if x!=0:\n",
    "            comb = comb*x\n",
    "\n",
    "    return comb\n"
   ]
  },
  {
   "cell_type": "code",
   "execution_count": 12,
   "metadata": {},
   "outputs": [
    {
     "name": "stdout",
     "output_type": "stream",
     "text": [
      "Passed\n",
      "Passed\n",
      "Passed\n",
      "Passed\n",
      "Passed\n",
      "Passed\n",
      "Passed\n",
      "Passed\n",
      "Passed\n",
      "Passed\n"
     ]
    }
   ],
   "source": [
    "Test.assert_equals(combinations(2), 2)\n",
    "Test.assert_equals(combinations(2, 3), 6)\n",
    "Test.assert_equals(combinations(3, 5), 15)\n",
    "Test.assert_equals(combinations(5, 6, 7), 210)\n",
    "Test.assert_equals(combinations(5, 5, 5, 5), 625)\n",
    "Test.assert_equals(combinations(3, 6, 9), 162)\n",
    "Test.assert_equals(combinations(2, 3, 4, 5, 6, 7, 8, 9, 10), 3628800)\n",
    "Test.assert_equals(combinations(4, 5, 6), 120)\n",
    "Test.assert_equals(combinations(5, 6, 7, 8), 1680)\n",
    "Test.assert_equals(combinations(6, 7, 0), 42)"
   ]
  },
  {
   "cell_type": "markdown",
   "metadata": {},
   "source": [
    "https://edabit.com/challenge/peezjw73G8BBGfHdW  (3 poins)"
   ]
  },
  {
   "cell_type": "code",
   "execution_count": 21,
   "metadata": {},
   "outputs": [],
   "source": [
    "def arithmetic_operation(b):\n",
    "    \n",
    "    a=b.split(\" \")\n",
    "    \n",
    "    if a[1]==\"+\":\n",
    "        s=int(a[0])+int(a[2])\n",
    "    elif a[1]==\"-\":\n",
    "        s=int(a[0])-int(a[2])\n",
    "    elif a[1]==\"*\":\n",
    "        s=int(a[0])*int(a[2])\n",
    "    elif a[1]==\"//\":\n",
    "        if int(a[2])==0:\n",
    "            s=(-1)\n",
    "        else:\n",
    "            s=int(a[0]) // int(a[2])\n",
    "\n",
    "    return s\n"
   ]
  },
  {
   "cell_type": "code",
   "execution_count": 22,
   "metadata": {},
   "outputs": [
    {
     "name": "stdout",
     "output_type": "stream",
     "text": [
      "Passed\n",
      "Passed\n",
      "Passed\n",
      "Passed\n",
      "Passed\n",
      "Passed\n",
      "Passed\n",
      "Passed\n"
     ]
    }
   ],
   "source": [
    "Test.assert_equals(arithmetic_operation(\"12 + 12\"), 24)\n",
    "Test.assert_equals(arithmetic_operation(\"22 - 12\"), 10)\n",
    "Test.assert_equals(arithmetic_operation(\"100 * 12\"), 1200)\n",
    "Test.assert_equals(arithmetic_operation(\"120 // 10\"), 12)\n",
    "Test.assert_equals(arithmetic_operation(\"122 // 0\"), -1)\n",
    "Test.assert_equals(arithmetic_operation(\"10 * 20\"), 200)\n",
    "Test.assert_equals(arithmetic_operation(\"10 - 10\"), 0)\n",
    "Test.assert_equals(arithmetic_operation(\"10 - 12\"), -2)"
   ]
  },
  {
   "cell_type": "markdown",
   "metadata": {},
   "source": [
    "https://edabit.com/challenge/Y5Ji2HDnQTX7MxeHt   (3 poins)"
   ]
  },
  {
   "cell_type": "code",
   "execution_count": 34,
   "metadata": {},
   "outputs": [],
   "source": [
    "def snakefill(n):\n",
    "    \n",
    "    i=0\n",
    "    a=1\n",
    "    while (a*2)<=(int(n)*(n)):\n",
    "        a=a*2\n",
    "        i=i+1\n",
    "    \n",
    "    return i\n"
   ]
  },
  {
   "cell_type": "code",
   "execution_count": 35,
   "metadata": {},
   "outputs": [
    {
     "name": "stdout",
     "output_type": "stream",
     "text": [
      "Passed\n",
      "Passed\n",
      "Passed\n",
      "Passed\n",
      "Passed\n",
      "Passed\n"
     ]
    }
   ],
   "source": [
    "Test.assert_equals(snakefill(8), 6)\n",
    "Test.assert_equals(snakefill(18), 8)\n",
    "Test.assert_equals(snakefill(555), 18)\n",
    "Test.assert_equals(snakefill(2), 2)\n",
    "Test.assert_equals(snakefill(1), 0)\n",
    "Test.assert_equals(snakefill(900), 19)"
   ]
  },
  {
   "cell_type": "markdown",
   "metadata": {},
   "source": [
    "https://edabit.com/challenge/W8imhL66osEpK2ANs   (3 poins)"
   ]
  },
  {
   "cell_type": "code",
   "execution_count": 36,
   "metadata": {},
   "outputs": [],
   "source": [
    "def time(rate, people, walls):\n",
    "    \n",
    "    t=rate['minutes'] * rate['people'] / rate['walls'] / people * walls\n",
    "    \n",
    "    return t\n"
   ]
  },
  {
   "cell_type": "code",
   "execution_count": 37,
   "metadata": {},
   "outputs": [
    {
     "name": "stdout",
     "output_type": "stream",
     "text": [
      "Passed\n",
      "Passed\n"
     ]
    }
   ],
   "source": [
    "rate1 = {\n",
    " 'people': 4,\n",
    " 'walls': 9,\n",
    " 'minutes': 63 \n",
    "}\n",
    "rate2 = {\n",
    "  'people': 10,\n",
    "  'walls': 10,\n",
    "  'minutes': 22\n",
    "}\n",
    "\n",
    "Test.assert_equals(time(rate1, 7, 4), 16)\n",
    "Test.assert_equals(time(rate2, 10, 10), 22)"
   ]
  },
  {
   "cell_type": "markdown",
   "metadata": {},
   "source": [
    "https://edabit.com/challenge/f3jX2BwzAuR8DXsy4   (3 poins)"
   ]
  },
  {
   "cell_type": "code",
   "execution_count": 38,
   "metadata": {},
   "outputs": [],
   "source": [
    "def factorial(n):\n",
    "    fact = 1\n",
    "    for i in range(1,n+1):\n",
    "        fact*=i\n",
    "    return fact\n",
    "\n",
    "def fact_of_fact(n):\n",
    "    fof=1\n",
    "    for i in range(1,n+1):\n",
    "        fof*=factorial(i)\n",
    "    return fof\n"
   ]
  },
  {
   "cell_type": "code",
   "execution_count": 40,
   "metadata": {},
   "outputs": [
    {
     "name": "stdout",
     "output_type": "stream",
     "text": [
      "Passed\n",
      "Passed\n",
      "Passed\n",
      "Passed\n",
      "Passed\n",
      "Passed\n",
      "Passed\n",
      "Passed\n",
      "Passed\n",
      "Passed\n",
      "Passed\n",
      "Passed\n",
      "Passed\n",
      "Passed\n",
      "Passed\n",
      "Passed\n",
      "Passed\n",
      "Passed\n",
      "Passed\n",
      "Passed\n",
      "Passed\n"
     ]
    }
   ],
   "source": [
    "\n",
    "Test.assert_equals(fact_of_fact(1), 1),\n",
    "Test.assert_equals(fact_of_fact(5), 34560),\n",
    "Test.assert_equals(fact_of_fact(2), 2),\n",
    "Test.assert_equals(fact_of_fact(6), 24883200),\n",
    "Test.assert_equals(fact_of_fact(3), 12),\n",
    "Test.assert_equals(fact_of_fact(14), 69113789582492712943486800506462734562847413501952000000000000000),\n",
    "Test.assert_equals(fact_of_fact(11), 265790267296391946810949632000000000),\n",
    "Test.assert_equals(fact_of_fact(7), 125411328000),\n",
    "Test.assert_equals(fact_of_fact(22), 73185187344722251685917129061596359994436879170423331597220791224873045503248922811481956548134913475324429128068839519292427638045690327208977109451014144000000000000000000000000000000000000000000),\n",
    "Test.assert_equals(fact_of_fact(13), 792786697595796795607377086400871488552960000000000000),\n",
    "Test.assert_equals(fact_of_fact(8), 5056584744960000),\n",
    "Test.assert_equals(fact_of_fact(10), 6658606584104736522240000000),\n",
    "Test.assert_equals(fact_of_fact(9), 1834933472251084800000 ),\n",
    "Test.assert_equals(fact_of_fact(12), 127313963299399416749559771247411200000000000 ),\n",
    "Test.assert_equals(fact_of_fact(15), 90378331112371142262979521568630736335023247731599748366336000000000000000000 ),\n",
    "Test.assert_equals(fact_of_fact(16), 1890966832292234727042877370627225068196418587883634153182519380410368000000000000000000000 ),\n",
    "Test.assert_equals(fact_of_fact(17), 672593129192865130334217631473916658864122332882577979675277211683839238972899328000000000000000000000000 ),\n",
    "Test.assert_equals(fact_of_fact(18), 4306192564997715382115598640379294845786123319603755168023536027873932927153136831171640950784000000000000000000000000000 ),\n",
    "Test.assert_equals(fact_of_fact(19), 523827226948912906162136183269887782788685420217963126789982275317725639664591791615428617583779071590924288000000000000000000000000000000 ),\n",
    "Test.assert_equals(fact_of_fact(20), 1274420312381610764187232669591245728094053576480399681464607478621086015845192873311847341571189522511934190056991170232320000000000000000000000000000000000 ),\n",
    "Test.assert_equals(fact_of_fact(21), 65111334482340755583337032079153276047018894694274871209973336023462275586396482041798135409436085152342597056410325664391109570976337100800000000000000000000000000000000000000 )\n"
   ]
  },
  {
   "cell_type": "code",
   "execution_count": null,
   "metadata": {},
   "outputs": [],
   "source": []
  },
  {
   "cell_type": "code",
   "execution_count": null,
   "metadata": {},
   "outputs": [],
   "source": []
  }
 ],
 "metadata": {
  "kernelspec": {
   "display_name": "Python 3",
   "language": "python",
   "name": "python3"
  },
  "language_info": {
   "codemirror_mode": {
    "name": "ipython",
    "version": 3
   },
   "file_extension": ".py",
   "mimetype": "text/x-python",
   "name": "python",
   "nbconvert_exporter": "python",
   "pygments_lexer": "ipython3",
   "version": "3.7.0"
  }
 },
 "nbformat": 4,
 "nbformat_minor": 2
}
